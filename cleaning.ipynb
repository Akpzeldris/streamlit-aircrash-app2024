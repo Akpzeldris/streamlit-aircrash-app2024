{
 "cells": [
  {
   "cell_type": "code",
   "execution_count": 24,
   "metadata": {},
   "outputs": [],
   "source": [
    "import streamlit as st\n",
    "import numpy as np\n",
    "import pandas as pd \n",
    "import matplotlib.pyplot as plt \n",
    "import seaborn as sns"
   ]
  },
  {
   "cell_type": "code",
   "execution_count": 25,
   "metadata": {},
   "outputs": [],
   "source": [
    "def load_data():\n",
    "    file = 'aircrahesFullDataUpdated_2024.csv'\n",
    "    df = pd.read_csv(file)\n",
    "\n",
    "    return df"
   ]
  },
  {
   "cell_type": "code",
   "execution_count": 26,
   "metadata": {},
   "outputs": [],
   "source": [
    "df = load_data()"
   ]
  },
  {
   "cell_type": "code",
   "execution_count": 27,
   "metadata": {},
   "outputs": [
    {
     "data": {
      "text/html": [
       "<div>\n",
       "<style scoped>\n",
       "    .dataframe tbody tr th:only-of-type {\n",
       "        vertical-align: middle;\n",
       "    }\n",
       "\n",
       "    .dataframe tbody tr th {\n",
       "        vertical-align: top;\n",
       "    }\n",
       "\n",
       "    .dataframe thead th {\n",
       "        text-align: right;\n",
       "    }\n",
       "</style>\n",
       "<table border=\"1\" class=\"dataframe\">\n",
       "  <thead>\n",
       "    <tr style=\"text-align: right;\">\n",
       "      <th></th>\n",
       "      <th>Year</th>\n",
       "      <th>Quarter</th>\n",
       "      <th>Month</th>\n",
       "      <th>Day</th>\n",
       "      <th>Country/Region</th>\n",
       "      <th>Aircraft Manufacturer</th>\n",
       "      <th>Aircraft</th>\n",
       "      <th>Location</th>\n",
       "      <th>Operator</th>\n",
       "      <th>Ground</th>\n",
       "      <th>Fatalities (air)</th>\n",
       "      <th>Aboard</th>\n",
       "    </tr>\n",
       "  </thead>\n",
       "  <tbody>\n",
       "    <tr>\n",
       "      <th>0</th>\n",
       "      <td>1970</td>\n",
       "      <td>Qtr 2</td>\n",
       "      <td>April</td>\n",
       "      <td>28</td>\n",
       "      <td>NaN</td>\n",
       "      <td>de Havilland Canada</td>\n",
       "      <td>de Havilland Canada DHC 6 Twin Otter 100VH</td>\n",
       "      <td>Kainatu</td>\n",
       "      <td>Airlines Australia GuineaTrans New</td>\n",
       "      <td>0</td>\n",
       "      <td>8</td>\n",
       "      <td>11</td>\n",
       "    </tr>\n",
       "    <tr>\n",
       "      <th>1</th>\n",
       "      <td>1952</td>\n",
       "      <td>Qtr 2</td>\n",
       "      <td>April</td>\n",
       "      <td>30</td>\n",
       "      <td>NaN</td>\n",
       "      <td>Douglas</td>\n",
       "      <td>Douglas DC 3VT</td>\n",
       "      <td>Delhi</td>\n",
       "      <td>Airways IndiaDeccan</td>\n",
       "      <td>0</td>\n",
       "      <td>9</td>\n",
       "      <td>9</td>\n",
       "    </tr>\n",
       "    <tr>\n",
       "      <th>2</th>\n",
       "      <td>1973</td>\n",
       "      <td>Qtr 2</td>\n",
       "      <td>April</td>\n",
       "      <td>10</td>\n",
       "      <td>NaN</td>\n",
       "      <td>Vickers Vanguard</td>\n",
       "      <td>Vickers Vanguard 952G AXOP</td>\n",
       "      <td>Near Basel</td>\n",
       "      <td>(UK) Airlines International SwitzerlandInvicta</td>\n",
       "      <td>0</td>\n",
       "      <td>108</td>\n",
       "      <td>145</td>\n",
       "    </tr>\n",
       "    <tr>\n",
       "      <th>3</th>\n",
       "      <td>2000</td>\n",
       "      <td>Qtr 2</td>\n",
       "      <td>April</td>\n",
       "      <td>19</td>\n",
       "      <td>'-</td>\n",
       "      <td>Antonov</td>\n",
       "      <td>Antonov AN 8TL</td>\n",
       "      <td>Pepa  -</td>\n",
       "      <td>Airlines Centrafricain</td>\n",
       "      <td>0</td>\n",
       "      <td>24</td>\n",
       "      <td>24</td>\n",
       "    </tr>\n",
       "    <tr>\n",
       "      <th>4</th>\n",
       "      <td>1946</td>\n",
       "      <td>Qtr 2</td>\n",
       "      <td>April</td>\n",
       "      <td>30</td>\n",
       "      <td>'-</td>\n",
       "      <td>Douglas</td>\n",
       "      <td>Douglas C 47A FZ559</td>\n",
       "      <td>Pindi-Khut  -</td>\n",
       "      <td>Force Air Royal</td>\n",
       "      <td>0</td>\n",
       "      <td>12</td>\n",
       "      <td>12</td>\n",
       "    </tr>\n",
       "  </tbody>\n",
       "</table>\n",
       "</div>"
      ],
      "text/plain": [
       "   Year Quarter  Month  Day Country/Region Aircraft Manufacturer  \\\n",
       "0  1970   Qtr 2  April   28            NaN   de Havilland Canada   \n",
       "1  1952   Qtr 2  April   30            NaN               Douglas   \n",
       "2  1973   Qtr 2  April   10            NaN      Vickers Vanguard   \n",
       "3  2000   Qtr 2  April   19             '-               Antonov   \n",
       "4  1946   Qtr 2  April   30             '-               Douglas   \n",
       "\n",
       "                                     Aircraft       Location  \\\n",
       "0  de Havilland Canada DHC 6 Twin Otter 100VH        Kainatu   \n",
       "1                              Douglas DC 3VT          Delhi   \n",
       "2                  Vickers Vanguard 952G AXOP     Near Basel   \n",
       "3                              Antonov AN 8TL        Pepa  -   \n",
       "4                         Douglas C 47A FZ559  Pindi-Khut  -   \n",
       "\n",
       "                                         Operator  Ground  Fatalities (air)  \\\n",
       "0              Airlines Australia GuineaTrans New       0                 8   \n",
       "1                             Airways IndiaDeccan       0                 9   \n",
       "2  (UK) Airlines International SwitzerlandInvicta       0               108   \n",
       "3                          Airlines Centrafricain       0                24   \n",
       "4                                 Force Air Royal       0                12   \n",
       "\n",
       "   Aboard  \n",
       "0      11  \n",
       "1       9  \n",
       "2     145  \n",
       "3      24  \n",
       "4      12  "
      ]
     },
     "execution_count": 27,
     "metadata": {},
     "output_type": "execute_result"
    }
   ],
   "source": [
    "df.head()"
   ]
  },
  {
   "cell_type": "code",
   "execution_count": 28,
   "metadata": {},
   "outputs": [
    {
     "name": "stdout",
     "output_type": "stream",
     "text": [
      "<class 'pandas.core.frame.DataFrame'>\n",
      "RangeIndex: 5035 entries, 0 to 5034\n",
      "Data columns (total 12 columns):\n",
      " #   Column                 Non-Null Count  Dtype \n",
      "---  ------                 --------------  ----- \n",
      " 0   Year                   5035 non-null   int64 \n",
      " 1   Quarter                5035 non-null   object\n",
      " 2   Month                  5035 non-null   object\n",
      " 3   Day                    5035 non-null   int64 \n",
      " 4   Country/Region         4805 non-null   object\n",
      " 5   Aircraft Manufacturer  5035 non-null   object\n",
      " 6   Aircraft               5035 non-null   object\n",
      " 7   Location               5035 non-null   object\n",
      " 8   Operator               4801 non-null   object\n",
      " 9   Ground                 5035 non-null   int64 \n",
      " 10  Fatalities (air)       5035 non-null   int64 \n",
      " 11  Aboard                 5035 non-null   int64 \n",
      "dtypes: int64(5), object(7)\n",
      "memory usage: 472.2+ KB\n"
     ]
    }
   ],
   "source": [
    "df.info()"
   ]
  },
  {
   "cell_type": "code",
   "execution_count": 29,
   "metadata": {},
   "outputs": [],
   "source": [
    "# Step 1:  Handling Missing Values and Standardizing Entries\n",
    "\n",
    "# Replace '-' with NaN in 'Country/Region'\n",
    "df['Country/Region'] = df['Country/Region'].replace('-', pd.NA)\n",
    "\n",
    "# Fill missing values in 'Country/Region' and 'Operator' with 'Unknown'\n",
    "df['Country/Region'] = df['Country/Region'].fillna('Unknown')\n",
    "df['Operator'] = df['Operator'].fillna('Unknown')"
   ]
  },
  {
   "cell_type": "code",
   "execution_count": 30,
   "metadata": {},
   "outputs": [],
   "source": [
    "# Step 2: Trim and Clean Text Fields\n",
    "# Columns to clean: 'Country/Region', 'Aircraft', 'Location', 'Operator'\n",
    "df['Country/Region'] = df['Country/Region'].str.strip().str.title()\n",
    "df['Aircraft Manufacturer'] = df['Aircraft Manufacturer'].str.strip().str.title()\n",
    "df['Aircraft'] = df['Aircraft'].str.strip()\n",
    "df['Location'] = df['Location'].str.strip()\n",
    "df['Operator'] = df['Operator'].str.strip()"
   ]
  },
  {
   "cell_type": "code",
   "execution_count": 31,
   "metadata": {},
   "outputs": [],
   "source": [
    "# Step 3: Convert 'Quarter' and 'Month' to categorical data types\n",
    "df['Quarter'] = pd.Categorical(df['Quarter'], categories=['Qtr 1', 'Qtr 2', 'Qtr 3', 'Qtr 4'])\n",
    "df['Month'] = pd.Categorical(df['Month'], categories=[\n",
    "    'January', 'February', 'March', 'April', 'May', 'June',\n",
    "    'July', 'August', 'September', 'October', 'November', 'December'])"
   ]
  },
  {
   "cell_type": "code",
   "execution_count": 32,
   "metadata": {},
   "outputs": [],
   "source": [
    "# Step 4: Handling Outliers\n",
    "# Calculate the interquartile range (IQR) for 'Ground' and 'Fatalities (air)' to detect outliers\n",
    "Q1_ground = df['Ground'].quantile(0.25)\n",
    "Q3_ground = df['Ground'].quantile(0.75)\n",
    "IQR_ground = Q3_ground - Q1_ground\n",
    "\n",
    "Q1_fatalities = df['Fatalities (air)'].quantile(0.25)\n",
    "Q3_fatalities = df['Fatalities (air)'].quantile(0.75)\n",
    "IQR_fatalities = Q3_fatalities - Q1_fatalities\n",
    "\n",
    "# Define outlier bounds\n",
    "lower_bound_ground = Q1_ground - 1.5 * IQR_ground\n",
    "upper_bound_ground = Q3_ground + 1.5 * IQR_ground\n",
    "\n",
    "lower_bound_fatalities = Q1_fatalities - 1.5 * IQR_fatalities\n",
    "upper_bound_fatalities = Q3_fatalities + 1.5 * IQR_fatalities\n",
    "\n",
    "# Cap outliers in 'Ground' and 'Fatalities (air)'\n",
    "df['Ground'] = df['Ground'].clip(lower=lower_bound_ground, upper=upper_bound_ground)\n",
    "df['Fatalities (air)'] = df['Fatalities (air)'].clip(lower=lower_bound_fatalities, upper=upper_bound_fatalities)"
   ]
  },
  {
   "cell_type": "code",
   "execution_count": 33,
   "metadata": {},
   "outputs": [],
   "source": [
    "# Step 5: Check for Duplicates\n",
    "duplicate_rows = df.duplicated().sum()\n",
    "# If any duplicates are found, remove them\n",
    "df.drop_duplicates(inplace=True)"
   ]
  },
  {
   "cell_type": "code",
   "execution_count": 34,
   "metadata": {},
   "outputs": [
    {
     "name": "stdout",
     "output_type": "stream",
     "text": [
      "<class 'pandas.core.frame.DataFrame'>\n",
      "RangeIndex: 5035 entries, 0 to 5034\n",
      "Data columns (total 12 columns):\n",
      " #   Column                 Non-Null Count  Dtype   \n",
      "---  ------                 --------------  -----   \n",
      " 0   Year                   5035 non-null   int64   \n",
      " 1   Quarter                5035 non-null   category\n",
      " 2   Month                  5035 non-null   category\n",
      " 3   Day                    5035 non-null   int64   \n",
      " 4   Country/Region         5035 non-null   object  \n",
      " 5   Aircraft Manufacturer  5035 non-null   object  \n",
      " 6   Aircraft               5035 non-null   object  \n",
      " 7   Location               5035 non-null   object  \n",
      " 8   Operator               5035 non-null   object  \n",
      " 9   Ground                 5035 non-null   int64   \n",
      " 10  Fatalities (air)       5035 non-null   float64 \n",
      " 11  Aboard                 5035 non-null   int64   \n",
      "dtypes: category(2), float64(1), int64(4), object(5)\n",
      "memory usage: 403.9+ KB\n"
     ]
    }
   ],
   "source": [
    "df.info()"
   ]
  },
  {
   "cell_type": "markdown",
   "metadata": {},
   "source": [
    "# RESEARCH QUESTIONS"
   ]
  },
  {
   "cell_type": "markdown",
   "metadata": {},
   "source": [
    "1. Which year had the highest number of fatalities (in the air)?\n",
    "This question investigates the year with the most air fatalities in the dataset."
   ]
  },
  {
   "cell_type": "markdown",
   "metadata": {},
   "source": [
    "2. Which aircraft manufacturer has the highest number of accidents?\n",
    "This will look at the most accident-prone manufacturers."
   ]
  },
  {
   "cell_type": "markdown",
   "metadata": {},
   "source": [
    "3. Which aircraft manufacturer has the highest total number of air fatalities?\n",
    "This question focuses on identifying the aircraft manufacturer associated with the highest total number of air fatalities."
   ]
  },
  {
   "cell_type": "markdown",
   "metadata": {},
   "source": [
    "4. Which operator has been involved in the most crashes?\n",
    "This question identifies the operator with the highest number of crashes."
   ]
  },
  {
   "cell_type": "markdown",
   "metadata": {},
   "source": [
    "5. What is the trend of total crashes over the years\n",
    "This question provides a summary of the trend of crashes over time by showing the year with the highest number of crashes."
   ]
  },
  {
   "cell_type": "markdown",
   "metadata": {},
   "source": [
    "6. How do air fatalities vary by aircraft manufacturer?\n",
    "This question investigates the total air fatalities associated with each aircraft manufacturer."
   ]
  },
  {
   "cell_type": "code",
   "execution_count": 12,
   "metadata": {},
   "outputs": [
    {
     "data": {
      "text/html": [
       "<div>\n",
       "<style scoped>\n",
       "    .dataframe tbody tr th:only-of-type {\n",
       "        vertical-align: middle;\n",
       "    }\n",
       "\n",
       "    .dataframe tbody tr th {\n",
       "        vertical-align: top;\n",
       "    }\n",
       "\n",
       "    .dataframe thead th {\n",
       "        text-align: right;\n",
       "    }\n",
       "</style>\n",
       "<table border=\"1\" class=\"dataframe\">\n",
       "  <thead>\n",
       "    <tr style=\"text-align: right;\">\n",
       "      <th></th>\n",
       "      <th>Year</th>\n",
       "      <th>Fatalities (air)</th>\n",
       "    </tr>\n",
       "  </thead>\n",
       "  <tbody>\n",
       "    <tr>\n",
       "      <th>61</th>\n",
       "      <td>1972</td>\n",
       "      <td>1989.5</td>\n",
       "    </tr>\n",
       "  </tbody>\n",
       "</table>\n",
       "</div>"
      ],
      "text/plain": [
       "    Year  Fatalities (air)\n",
       "61  1972            1989.5"
      ]
     },
     "execution_count": 12,
     "metadata": {},
     "output_type": "execute_result"
    }
   ],
   "source": [
    "# Grouping data by year and summing the air fatalities\n",
    "yearly_fatalities = df.groupby('Year')['Fatalities (air)'].sum().reset_index()\n",
    "\n",
    "# Sorting to find the year with the highest fatalities\n",
    "highest_fatality_year = yearly_fatalities.sort_values(by='Fatalities (air)', ascending=False).head(1)\n",
    "\n",
    "highest_fatality_year\n"
   ]
  },
  {
   "cell_type": "code",
   "execution_count": 35,
   "metadata": {},
   "outputs": [
    {
     "data": {
      "text/html": [
       "<div>\n",
       "<style scoped>\n",
       "    .dataframe tbody tr th:only-of-type {\n",
       "        vertical-align: middle;\n",
       "    }\n",
       "\n",
       "    .dataframe tbody tr th {\n",
       "        vertical-align: top;\n",
       "    }\n",
       "\n",
       "    .dataframe thead th {\n",
       "        text-align: right;\n",
       "    }\n",
       "</style>\n",
       "<table border=\"1\" class=\"dataframe\">\n",
       "  <thead>\n",
       "    <tr style=\"text-align: right;\">\n",
       "      <th></th>\n",
       "      <th>Aircraft Manufacturer</th>\n",
       "      <th>Accident Count</th>\n",
       "    </tr>\n",
       "  </thead>\n",
       "  <tbody>\n",
       "    <tr>\n",
       "      <th>0</th>\n",
       "      <td>Douglas</td>\n",
       "      <td>994</td>\n",
       "    </tr>\n",
       "  </tbody>\n",
       "</table>\n",
       "</div>"
      ],
      "text/plain": [
       "  Aircraft Manufacturer  Accident Count\n",
       "0               Douglas             994"
      ]
     },
     "execution_count": 35,
     "metadata": {},
     "output_type": "execute_result"
    }
   ],
   "source": [
    "# Grouping by aircraft manufacturer and counting the occurrences\n",
    "manufacturer_accidents = df['Aircraft Manufacturer'].value_counts().reset_index()\n",
    "\n",
    "# Renaming columns\n",
    "manufacturer_accidents.columns = ['Aircraft Manufacturer', 'Accident Count']\n",
    "\n",
    "# Finding the manufacturer with the highest accidents\n",
    "top_manufacturer = manufacturer_accidents.head(1)\n",
    "\n",
    "top_manufacturer\n"
   ]
  },
  {
   "cell_type": "code",
   "execution_count": 40,
   "metadata": {},
   "outputs": [
    {
     "data": {
      "text/html": [
       "<div>\n",
       "<style scoped>\n",
       "    .dataframe tbody tr th:only-of-type {\n",
       "        vertical-align: middle;\n",
       "    }\n",
       "\n",
       "    .dataframe tbody tr th {\n",
       "        vertical-align: top;\n",
       "    }\n",
       "\n",
       "    .dataframe thead th {\n",
       "        text-align: right;\n",
       "    }\n",
       "</style>\n",
       "<table border=\"1\" class=\"dataframe\">\n",
       "  <thead>\n",
       "    <tr style=\"text-align: right;\">\n",
       "      <th></th>\n",
       "      <th>Aircraft Manufacturer</th>\n",
       "      <th>Fatalities (air)</th>\n",
       "    </tr>\n",
       "  </thead>\n",
       "  <tbody>\n",
       "    <tr>\n",
       "      <th>245</th>\n",
       "      <td>Douglas</td>\n",
       "      <td>16013.0</td>\n",
       "    </tr>\n",
       "  </tbody>\n",
       "</table>\n",
       "</div>"
      ],
      "text/plain": [
       "    Aircraft Manufacturer  Fatalities (air)\n",
       "245               Douglas           16013.0"
      ]
     },
     "execution_count": 40,
     "metadata": {},
     "output_type": "execute_result"
    }
   ],
   "source": [
    "# Grouping by aircraft manufacturer and summing air fatalities\n",
    "manufacturer_fatalities = df.groupby('Aircraft Manufacturer')['Fatalities (air)'].sum().reset_index()\n",
    "\n",
    "# Sorting to find the manufacturer with the highest air fatalities\n",
    "top_manufacturer_fatalities = manufacturer_fatalities.sort_values(by='Fatalities (air)', ascending=False).head(1)\n",
    "\n",
    "top_manufacturer_fatalities\n"
   ]
  },
  {
   "cell_type": "code",
   "execution_count": 45,
   "metadata": {},
   "outputs": [
    {
     "name": "stderr",
     "output_type": "stream",
     "text": [
      "C:\\Users\\Admin\\AppData\\Local\\Temp\\ipykernel_2916\\979841051.py:16: UserWarning: FigureCanvasAgg is non-interactive, and thus cannot be shown\n",
      "  plt.show()\n"
     ]
    }
   ],
   "source": [
    "# Grouping by operator and counting occurrences\n",
    "operator_accidents = df['Operator'].value_counts().reset_index()\n",
    "\n",
    "# Renaming columns\n",
    "operator_accidents.columns = ['Operator', 'Accident Count']\n",
    "\n",
    "# Finding the operator with the highest accidents\n",
    "top_operator = operator_accidents.head(10)\n",
    "\n",
    "# Plotting the top 10 operators by number of accidents\n",
    "plt.figure(figsize=(10, 6))\n",
    "sns.barplot(x='Accident Count', y='Operator', data=top_operator)\n",
    "plt.title('Top 10 Operators by Number of Accidents')\n",
    "plt.xlabel('Accident Count')\n",
    "plt.ylabel('Operator')\n",
    "plt.show()\n",
    "\n"
   ]
  },
  {
   "cell_type": "code",
   "execution_count": 44,
   "metadata": {},
   "outputs": [
    {
     "name": "stderr",
     "output_type": "stream",
     "text": [
      "C:\\Users\\Admin\\AppData\\Local\\Temp\\ipykernel_2916\\706807193.py:10: UserWarning: FigureCanvasAgg is non-interactive, and thus cannot be shown\n",
      "  plt.show()\n"
     ]
    }
   ],
   "source": [
    "# Grouping by year and counting the number of crashes\n",
    "yearly_crashes = df.groupby('Year').size().reset_index(name='Crash Count')\n",
    "\n",
    "# Plotting the trend of crashes over the years\n",
    "plt.figure(figsize=(10, 6))\n",
    "sns.lineplot(x='Year', y='Crash Count', data=yearly_crashes)\n",
    "plt.title('Trend of Total Crashes Over the Years')\n",
    "plt.ylabel('Number of Crashes')\n",
    "plt.xlabel('Year')\n",
    "plt.show()\n",
    "\n"
   ]
  },
  {
   "cell_type": "code",
   "execution_count": 43,
   "metadata": {},
   "outputs": [
    {
     "name": "stderr",
     "output_type": "stream",
     "text": [
      "C:\\Users\\Admin\\AppData\\Local\\Temp\\ipykernel_2916\\1787652666.py:13: UserWarning: FigureCanvasAgg is non-interactive, and thus cannot be shown\n",
      "  plt.show()\n"
     ]
    }
   ],
   "source": [
    "# Grouping by aircraft manufacturer and summing air fatalities\n",
    "manufacturer_fatalities = df.groupby('Aircraft Manufacturer')['Fatalities (air)'].sum().reset_index()\n",
    "\n",
    "# Sorting to see which manufacturer has the highest air fatalities\n",
    "top_manufacturer_fatalities = manufacturer_fatalities.sort_values(by='Fatalities (air)', ascending=False).head(10)\n",
    "\n",
    "# Plotting the top 10 manufacturers by air fatalities\n",
    "plt.figure(figsize=(10, 6))\n",
    "sns.barplot(x='Fatalities (air)', y='Aircraft Manufacturer', data=top_manufacturer_fatalities)\n",
    "plt.title('Top 10 Aircraft Manufacturers by Air Fatalities')\n",
    "plt.xlabel('Total Air Fatalities')\n",
    "plt.ylabel('Aircraft Manufacturer')\n",
    "plt.show()\n"
   ]
  }
 ],
 "metadata": {
  "kernelspec": {
   "display_name": "base",
   "language": "python",
   "name": "python3"
  },
  "language_info": {
   "codemirror_mode": {
    "name": "ipython",
    "version": 3
   },
   "file_extension": ".py",
   "mimetype": "text/x-python",
   "name": "python",
   "nbconvert_exporter": "python",
   "pygments_lexer": "ipython3",
   "version": "3.12.4"
  }
 },
 "nbformat": 4,
 "nbformat_minor": 2
}
